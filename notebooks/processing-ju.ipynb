{
 "cells": [
  {
   "cell_type": "code",
   "execution_count": 1,
   "metadata": {},
   "outputs": [
    {
     "name": "stderr",
     "output_type": "stream",
     "text": [
      "Gtk-Message: 17:08:14.537: Failed to load module \"canberra-gtk-module\"\n",
      "Gtk-Message: 17:08:14.540: Failed to load module \"canberra-gtk-module\"\n"
     ]
    },
    {
     "data": {
      "text/plain": [
       "🗂️ HDF5.File: (read-only) /media/labfiles/lab-exps/nano-lab/fg163r/2022-10-20-nsom.h5\n",
       "├─ 📂 Datos\n",
       "│  └─ 🔢 datos_R\n",
       "│     ├─ 🏷️ Inicio X\n",
       "│     ├─ 🏷️ Inicio Y\n",
       "│     ├─ 🏷️ Tipo\n",
       "│     ├─ 🏷️ Unidades\n",
       "│     ├─ 🏷️ fin X \n",
       "│     ├─ 🏷️ fin Y \n",
       "│     └─ 🏷️ paso\n",
       "└─ 📂 DatosEx\n",
       "   ├─ 🔢 Amplitud\n",
       "   └─ 🔢 Fase"
      ]
     },
     "metadata": {},
     "output_type": "display_data"
    }
   ],
   "source": [
    "using HDF5\n",
    "using ImageView, Images, Colors,ImageShow\n",
    "using  Plots\n",
    "path = \"/media/labfiles/lab-exps/nano-lab/fg163r\"\n",
    "files = readdir(path)\n",
    "fid = h5open(joinpath(path,files[1]),\"r\")\n"
   ]
  },
  {
   "cell_type": "code",
   "execution_count": 2,
   "metadata": {},
   "outputs": [
    {
     "data": {
      "text/plain": [
       "8-element Vector{String}:\n",
       " \"2022-10-20-nsom.h5\"\n",
       " \"2022-10-23-nsom.h5\"\n",
       " \"2022-10-25-nsom.h5\"\n",
       " \"2022-10-28-nsom.h5\"\n",
       " \"2022-11-28-nsom.h5\"\n",
       " \"2022-12-02-nsom.h5\"\n",
       " \"2022-12-02-nsom_2.h5\"\n",
       " \"2022-12-03-nsom.h5\""
      ]
     },
     "metadata": {},
     "output_type": "display_data"
    }
   ],
   "source": [
    "files"
   ]
  }
 ],
 "metadata": {
  "kernelspec": {
   "display_name": "Julia 1.7.3",
   "language": "julia",
   "name": "julia-1.7"
  },
  "language_info": {
   "file_extension": ".jl",
   "mimetype": "application/julia",
   "name": "julia",
   "version": "1.7.3"
  },
  "orig_nbformat": 4
 },
 "nbformat": 4,
 "nbformat_minor": 2
}
