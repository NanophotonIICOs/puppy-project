{
 "cells": [
  {
   "cell_type": "code",
   "execution_count": 1,
   "metadata": {},
   "outputs": [
    {
     "name": "stderr",
     "output_type": "stream",
     "text": [
      "Gtk-Message: 17:58:42.548: Failed to load module \"canberra-gtk-module\"\n",
      "Gtk-Message: 17:58:42.552: Failed to load module \"canberra-gtk-module\"\n"
     ]
    },
    {
     "data": {
      "text/plain": [
       "🗂️ HDF5.File: (read-only) /media/labfiles/lab-exps/nano-lab/fg163r/2022-10-20-nsom.h5\n",
       "├─ 📂 Datos\n",
       "│  └─ 🔢 datos_R\n",
       "│     ├─ 🏷️ Inicio X\n",
       "│     ├─ 🏷️ Inicio Y\n",
       "│     ├─ 🏷️ Tipo\n",
       "│     ├─ 🏷️ Unidades\n",
       "│     ├─ 🏷️ fin X \n",
       "│     ├─ 🏷️ fin Y \n",
       "│     └─ 🏷️ paso\n",
       "└─ 📂 DatosEx\n",
       "   ├─ 🔢 Amplitud\n",
       "   └─ 🔢 Fase"
      ]
     },
     "execution_count": 1,
     "metadata": {},
     "output_type": "execute_result"
    }
   ],
   "source": [
    "using HDF5\n",
    "using ImageView, Images, Colors,ImageShow\n",
    "using  Plots\n",
    "path = \"/media/labfiles/lab-exps/nano-lab/fg163r\"\n",
    "files = readdir(path)\n",
    "fid = h5open(joinpath(path,files[1]),\"r\")\n"
   ]
  },
  {
   "cell_type": "code",
   "execution_count": 20,
   "metadata": {},
   "outputs": [
    {
     "data": {
      "text/plain": [
       "2.43290200817664e18"
      ]
     },
     "execution_count": 20,
     "metadata": {},
     "output_type": "execute_result"
    }
   ],
   "source": [
    "function fact(n::Float64)\n",
    "    res = 1; # initialize the result as 1\n",
    "    for i=n:-1:1 # loop the variable i from N to 1 in steps of -1\n",
    "    res = res*i; # since n! = n ·(n −1)·(n −2)···(1)\n",
    "    end # end loop\n",
    "    return res; # return the result\n",
    "end\n",
    "\n",
    "fact(20.0)"
   ]
  },
  {
   "cell_type": "code",
   "execution_count": 33,
   "metadata": {},
   "outputs": [
    {
     "ename": "LoadError",
     "evalue": "setfield!: immutable struct of type Particle cannot be changed",
     "output_type": "error",
     "traceback": [
      "setfield!: immutable struct of type Particle cannot be changed",
      "",
      "Stacktrace:",
      " [1] setproperty!(x::Particle, f::Symbol, v::Int64)",
      "   @ Base ./Base.jl:43",
      " [2] top-level scope",
      "   @ In[33]:10",
      " [3] eval",
      "   @ ./boot.jl:373 [inlined]",
      " [4] include_string(mapexpr::typeof(REPL.softscope), mod::Module, code::String, filename::String)",
      "   @ Base ./loading.jl:1196"
     ]
    }
   ],
   "source": [
    "struct   Particle\n",
    "x::Float64\n",
    "y::Float64\n",
    "px::Float64\n",
    "py::Float64\n",
    "end\n",
    "q1 = Particle(0.0, 0.0, 0.0, 0.0); # resting at origin\n",
    "q2 = Particle(10.0, 10.0, -1.0, -1.0); # in a collision course with q1\n",
    "\n",
    "q1.x = 1"
   ]
  }
 ],
 "metadata": {
  "kernelspec": {
   "display_name": "Julia 1.7.3",
   "language": "julia",
   "name": "julia-1.7"
  },
  "language_info": {
   "file_extension": ".jl",
   "mimetype": "application/julia",
   "name": "julia",
   "version": "1.7.3"
  },
  "orig_nbformat": 4
 },
 "nbformat": 4,
 "nbformat_minor": 2
}
